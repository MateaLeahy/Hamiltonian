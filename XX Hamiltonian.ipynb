{
 "cells": [
  {
   "cell_type": "code",
   "execution_count": 19,
   "id": "e82c8617",
   "metadata": {},
   "outputs": [],
   "source": [
    "from scipy.sparse.linalg import LinearOperator, eigsh \n",
    "from numpy.linalg import eigh\n",
    "import numpy as np\n",
    "import scipy\n",
    "from scipy import integrate\n",
    "from scipy.sparse import csr_matrix, lil_matrix"
   ]
  },
  {
   "cell_type": "code",
   "execution_count": 13,
   "id": "aff76d9e",
   "metadata": {},
   "outputs": [],
   "source": [
    "zero = np.array([[1]\n",
    "                ,[0]])\n",
    "one = np.array([[0]\n",
    "                ,[1]])"
   ]
  },
  {
   "cell_type": "code",
   "execution_count": 14,
   "id": "c319a2f3",
   "metadata": {},
   "outputs": [],
   "source": [
    "def pauli_ops1(L):\n",
    "    \n",
    "    # Define local variables for the 1-qubit operators\n",
    "    sx1 = lil_matrix([[0,1],[1,0]])\n",
    "    sy1 = lil_matrix([[0,-1j],[1j,0]])\n",
    "    sz1 = lil_matrix([[1,0],[0,-1]])\n",
    "    id2 = scipy.sparse.eye(2)\n",
    "    \n",
    "    # Generate a list element for each site of the system, moving from left to right\n",
    "    Sx1, Sy1, Sz1 = [], [], []\n",
    "    for ii in range(L):\n",
    "        \n",
    "        # Pauli operators on the L-qubit space\n",
    "        X = scipy.sparse.kron(scipy.sparse.eye(2**ii),scipy.sparse.kron(sx1,scipy.sparse.eye(2**(L-ii-1))))\n",
    "        Y = scipy.sparse.kron(scipy.sparse.eye(2**ii),scipy.sparse.kron(sy1,scipy.sparse.eye(2**(L-ii-1))))\n",
    "        Z = scipy.sparse.kron(scipy.sparse.eye(2**ii),scipy.sparse.kron(sz1,scipy.sparse.eye(2**(L-ii-1))))\n",
    "        \n",
    "        # Store the matrices in the corresponding list\n",
    "        Sx1.append(X)\n",
    "        Sy1.append(Y)\n",
    "        Sz1.append(Z)\n",
    "        \n",
    "    return Sx1,Sy1,Sz1 "
   ]
  },
  {
   "cell_type": "code",
   "execution_count": 15,
   "id": "418e7a77",
   "metadata": {},
   "outputs": [],
   "source": [
    "h = 0.5\n",
    "M = 20\n",
    "Sx1,Sy1,Sz1  = pauli_ops1(M)"
   ]
  },
  {
   "cell_type": "markdown",
   "id": "09cdce38",
   "metadata": {},
   "source": [
    "Generated a Hamiltonian for 20 spins in ~ 5.45 seconds "
   ]
  },
  {
   "cell_type": "code",
   "execution_count": 16,
   "id": "103f408a",
   "metadata": {},
   "outputs": [],
   "source": [
    "A = np.zeros(M);\n",
    "A = np.diag(np.ones(M),-1 ) + np.diag(np.ones(M),1) #1D nearest-neighbour chain."
   ]
  },
  {
   "cell_type": "code",
   "execution_count": 17,
   "id": "8ca58ba8",
   "metadata": {},
   "outputs": [
    {
     "name": "stdout",
     "output_type": "stream",
     "text": [
      "Wall time: 3.38 s\n"
     ]
    }
   ],
   "source": [
    "%%time\n",
    "h = 0.5\n",
    "M = 20\n",
    "Sx1,Sy1,Sz1  = pauli_ops1(M)\n",
    "A = np.zeros(M);\n",
    "A = np.diag(np.ones(M),-1 ) + np.diag(np.ones(M),1) #1D nearest-neighbour chain.\n",
    "H1 = scipy.sparse.spdiags(np.zeros(2**M),0,2**M,2**M)"
   ]
  },
  {
   "cell_type": "code",
   "execution_count": 18,
   "id": "b4c7c5a2",
   "metadata": {},
   "outputs": [
    {
     "name": "stdout",
     "output_type": "stream",
     "text": [
      "Wall time: 5.57 s\n"
     ]
    }
   ],
   "source": [
    "%%time\n",
    "#% Construct the full Hamiltonian :\n",
    "for m in range(1,M):\n",
    "    neighbour = np.array(np.where(A[:,m]==1));\n",
    "    for n in range(1):\n",
    "        H1 -= Sx1[neighbour[0,n]]@Sx1[m]+Sy1[neighbour[0,n]]@Sy1[m]#interaction between neighbouring spins."
   ]
  }
 ],
 "metadata": {
  "kernelspec": {
   "display_name": "Python 3",
   "language": "python",
   "name": "python3"
  },
  "language_info": {
   "codemirror_mode": {
    "name": "ipython",
    "version": 3
   },
   "file_extension": ".py",
   "mimetype": "text/x-python",
   "name": "python",
   "nbconvert_exporter": "python",
   "pygments_lexer": "ipython3",
   "version": "3.8.8"
  }
 },
 "nbformat": 4,
 "nbformat_minor": 5
}
